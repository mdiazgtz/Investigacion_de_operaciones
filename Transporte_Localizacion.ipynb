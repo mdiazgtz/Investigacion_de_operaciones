{
 "cells": [
  {
   "cell_type": "markdown",
   "id": "a66a48bb",
   "metadata": {},
   "source": [
    "## Problema de transporte y localización"
   ]
  },
  {
   "cell_type": "code",
   "execution_count": 7,
   "id": "3c892858",
   "metadata": {},
   "outputs": [
    {
     "name": "stdout",
     "output_type": "stream",
     "text": [
      "Requirement already satisfied: pulp in c:\\users\\familia\\anaconda3\\lib\\site-packages (2.4)\n",
      "Requirement already satisfied: amply>=0.1.2 in c:\\users\\familia\\anaconda3\\lib\\site-packages (from pulp) (0.1.4)\n",
      "Requirement already satisfied: pyparsing in c:\\users\\familia\\anaconda3\\lib\\site-packages (from amply>=0.1.2->pulp) (2.4.7)\n",
      "Requirement already satisfied: docutils>=0.3 in c:\\users\\familia\\anaconda3\\lib\\site-packages (from amply>=0.1.2->pulp) (0.17)\n"
     ]
    }
   ],
   "source": [
    "!pip install pulp"
   ]
  },
  {
   "cell_type": "code",
   "execution_count": 8,
   "id": "611c42cd",
   "metadata": {},
   "outputs": [],
   "source": [
    "import pandas as np\n",
    "from pulp import *"
   ]
  },
  {
   "cell_type": "code",
   "execution_count": 9,
   "id": "2ff19a0a",
   "metadata": {},
   "outputs": [],
   "source": [
    "origen = ['Baja California','Sonora','Chihuahua']\n",
    "destino = ['California','Arizona','Nuevo Mexico','Texas']"
   ]
  },
  {
   "cell_type": "code",
   "execution_count": 11,
   "id": "95770f10",
   "metadata": {},
   "outputs": [],
   "source": [
    "oferta = {'Baja California': 35,'Sonora': 25,'Chihuahua': 20}\n",
    "demanda = {'California': 30,'Arizona': 40,'Nuevo Mexico': 20, 'Texas':10 }"
   ]
  },
  {
   "cell_type": "code",
   "execution_count": 13,
   "id": "084c10db",
   "metadata": {},
   "outputs": [],
   "source": [
    "costo_envio = {'Baja California': {'California': 10,'Arizona': 15,'Nuevo Mexico': 20, 'Texas':9}, \n",
    "               'Sonora': {'California': 6,'Arizona': 7,'Nuevo Mexico': 10, 'Texas':15}, \n",
    "               'Chihuahua':{'California': 15,'Arizona': 20,'Nuevo Mexico': 25, 'Texas':30}}"
   ]
  },
  {
   "cell_type": "code",
   "execution_count": 15,
   "id": "ac0c18a8",
   "metadata": {},
   "outputs": [],
   "source": [
    "prob = LpProblem('Transporte',LpMinimize) #variable para la solucion del problema"
   ]
  },
  {
   "cell_type": "code",
   "execution_count": 16,
   "id": "ad5ebb74",
   "metadata": {},
   "outputs": [],
   "source": [
    "rutas = [(i,j) for i in origen for j in destino]"
   ]
  },
  {
   "cell_type": "code",
   "execution_count": 17,
   "id": "8c146247",
   "metadata": {},
   "outputs": [],
   "source": [
    "cantidad = LpVariable.dicts('Cantidad de Envio',(origen,destino),0)"
   ]
  },
  {
   "cell_type": "code",
   "execution_count": 18,
   "id": "8286890d",
   "metadata": {},
   "outputs": [],
   "source": [
    "prob += lpSum(cantidad[i][j]*costo_envio[i][j] for (i,j) in rutas)"
   ]
  },
  {
   "cell_type": "code",
   "execution_count": 23,
   "id": "cdc4be53",
   "metadata": {},
   "outputs": [],
   "source": [
    "for j in destino:\n",
    "    prob += lpSum(cantidad[i][j] for i in origen) >= demanda[j]"
   ]
  },
  {
   "cell_type": "code",
   "execution_count": 24,
   "id": "70b5ab33",
   "metadata": {},
   "outputs": [],
   "source": [
    "for i in origen:\n",
    "    prob += lpSum(cantidad[i][j] for j in destino) <= oferta[i]"
   ]
  },
  {
   "cell_type": "code",
   "execution_count": 25,
   "id": "efb5e1ef",
   "metadata": {},
   "outputs": [
    {
     "name": "stdout",
     "output_type": "stream",
     "text": [
      "Status: Infeasible\n"
     ]
    }
   ],
   "source": [
    "### Resolvemos e imprimimos el Status, si es Optimo, el problema tiene solución.\n",
    "prob.solve()\n",
    "print(\"Status:\", LpStatus[prob.status])"
   ]
  },
  {
   "cell_type": "code",
   "execution_count": 26,
   "id": "7735990f",
   "metadata": {},
   "outputs": [
    {
     "name": "stdout",
     "output_type": "stream",
     "text": [
      "Cantidad_de_Envio_Baja_California_Arizona = 14.9\n",
      "Cantidad_de_Envio_Baja_California_California = 10.1\n",
      "Cantidad_de_Envio_Baja_California_Texas = 10.0\n",
      "Cantidad_de_Envio_Chihuahua_Arizona = 20.1\n",
      "Cantidad_de_Envio_Chihuahua_California = 19.9\n",
      "Cantidad_de_Envio_Sonora_Arizona = 5.0\n",
      "Cantidad_de_Envio_Sonora_Nuevo_Mexico = 20.0\n",
      "El costo mínimo es: 1350.0\n"
     ]
    }
   ],
   "source": [
    "### Imprimimos la solución\n",
    "for v in prob.variables():\n",
    "    if v.varValue > 0:\n",
    "        print(v.name, \"=\", v.varValue)\n",
    "print('El costo mínimo es:', value(prob.objective))"
   ]
  }
 ],
 "metadata": {
  "kernelspec": {
   "display_name": "Python 3",
   "language": "python",
   "name": "python3"
  },
  "language_info": {
   "codemirror_mode": {
    "name": "ipython",
    "version": 3
   },
   "file_extension": ".py",
   "mimetype": "text/x-python",
   "name": "python",
   "nbconvert_exporter": "python",
   "pygments_lexer": "ipython3",
   "version": "3.8.8"
  }
 },
 "nbformat": 4,
 "nbformat_minor": 5
}
