{
  "nbformat": 4,
  "nbformat_minor": 0,
  "metadata": {
    "colab": {
      "name": "Parcial3_IO_Ej2",
      "provenance": []
    },
    "kernelspec": {
      "name": "python3",
      "display_name": "Python 3"
    },
    "language_info": {
      "name": "python"
    }
  },
  "cells": [
    {
      "cell_type": "markdown",
      "metadata": {
        "id": "GjTcxjuSHovx"
      },
      "source": [
        "###3° Parcial: Aplicaciones de Programación Linea\n",
        "\n",
        "\n",
        "\n"
      ]
    },
    {
      "cell_type": "markdown",
      "metadata": {
        "id": "5_Fayj5bwR22"
      },
      "source": [
        "**2.Compañeros de Habitacion **"
      ]
    },
    {
      "cell_type": "code",
      "metadata": {
        "id": "8B5CFBjeHjAb"
      },
      "source": [
        "import numpy as np\n",
        "import pandas as pd\n",
        "import random as random"
      ],
      "execution_count": 1,
      "outputs": []
    },
    {
      "cell_type": "markdown",
      "metadata": {
        "id": "cb9QHMub9ENl"
      },
      "source": [
        "Primero generamos a nuestros compañeros. En este caso,tomaremos como base  creando solamente a cinco personas. Esas cinco personas estaran definidas por indice. Por ejemplo, en este caso, tenemos a las siguientes 6 personas.\n",
        "\n"
      ]
    },
    {
      "cell_type": "code",
      "metadata": {
        "id": "6DkaooEFHspQ",
        "colab": {
          "base_uri": "https://localhost:8080/",
          "height": 227
        },
        "outputId": "0e4970a1-1878-4f2a-9cc5-b6f99ba69b93"
      },
      "source": [
        "personas=['Olga','Eduardo','Marisol','Saul','Karla','Alan']\n",
        "\n",
        "serie={'Nombre':pd.Series(personas,index=['Olga','Eduardo','Marisol','Saul','Karla','Alan'])}\n",
        "a=pd.DataFrame(serie)\n",
        "a"
      ],
      "execution_count": 2,
      "outputs": [
        {
          "output_type": "execute_result",
          "data": {
            "text/html": [
              "<div>\n",
              "<style scoped>\n",
              "    .dataframe tbody tr th:only-of-type {\n",
              "        vertical-align: middle;\n",
              "    }\n",
              "\n",
              "    .dataframe tbody tr th {\n",
              "        vertical-align: top;\n",
              "    }\n",
              "\n",
              "    .dataframe thead th {\n",
              "        text-align: right;\n",
              "    }\n",
              "</style>\n",
              "<table border=\"1\" class=\"dataframe\">\n",
              "  <thead>\n",
              "    <tr style=\"text-align: right;\">\n",
              "      <th></th>\n",
              "      <th>Nombre</th>\n",
              "    </tr>\n",
              "  </thead>\n",
              "  <tbody>\n",
              "    <tr>\n",
              "      <th>Olga</th>\n",
              "      <td>Olga</td>\n",
              "    </tr>\n",
              "    <tr>\n",
              "      <th>Eduardo</th>\n",
              "      <td>Eduardo</td>\n",
              "    </tr>\n",
              "    <tr>\n",
              "      <th>Marisol</th>\n",
              "      <td>Marisol</td>\n",
              "    </tr>\n",
              "    <tr>\n",
              "      <th>Saul</th>\n",
              "      <td>Saul</td>\n",
              "    </tr>\n",
              "    <tr>\n",
              "      <th>Karla</th>\n",
              "      <td>Karla</td>\n",
              "    </tr>\n",
              "    <tr>\n",
              "      <th>Alan</th>\n",
              "      <td>Alan</td>\n",
              "    </tr>\n",
              "  </tbody>\n",
              "</table>\n",
              "</div>"
            ],
            "text/plain": [
              "          Nombre\n",
              "Olga        Olga\n",
              "Eduardo  Eduardo\n",
              "Marisol  Marisol\n",
              "Saul        Saul\n",
              "Karla      Karla\n",
              "Alan        Alan"
            ]
          },
          "metadata": {
            "tags": []
          },
          "execution_count": 2
        }
      ]
    },
    {
      "cell_type": "markdown",
      "metadata": {
        "id": "VvHY_sWx99SR"
      },
      "source": [
        "Como aqui aún no tenemos parejas entronces relacionamos por si solo sus nombres para que se empiezen a movel nombres en la tabla, ya cuando se vallan asignando las parejas."
      ]
    },
    {
      "cell_type": "code",
      "metadata": {
        "id": "rjCWyeaH_42P"
      },
      "source": [
        "persona4=[a.iloc[4,0],a.iloc[5,0],a.iloc[1,0],a.iloc[0,0]]"
      ],
      "execution_count": 3,
      "outputs": []
    },
    {
      "cell_type": "markdown",
      "metadata": {
        "id": "aeWH-Q71CLfn"
      },
      "source": [
        "La primer persona hara la primer seleccion "
      ]
    },
    {
      "cell_type": "code",
      "metadata": {
        "id": "rjO4LJ3PATYU"
      },
      "source": [
        "persona1=['Eduardo','Karla','Marisol','Alan']\n",
        "persona2=['Saul','Olga','Marisol','Alan']\n",
        "persona3=['Marisol','Karla','Alan','Olga']\n",
        "#persona4=['Karla','Marisol','Saul','Eduardo'],\n",
        "persona5=['Olga','Karla','Eduardo','Saul']\n",
        "persona6=['Alan','Marisol','Eduardo','Saul']"
      ],
      "execution_count": 4,
      "outputs": []
    },
    {
      "cell_type": "code",
      "metadata": {
        "id": "PI9nC6jACFxZ"
      },
      "source": [
        "seleccionado=[persona1,\n",
        "              persona2,\n",
        "              persona3,\n",
        "              persona4,\n",
        "              persona5,\n",
        "              persona6]"
      ],
      "execution_count": 5,
      "outputs": []
    },
    {
      "cell_type": "code",
      "metadata": {
        "id": "2PPw2_7LCFt5"
      },
      "source": [
        "decision=[[a.iloc[1,0],a.iloc[4,0],a.iloc[2,0],a.iloc[5,0]],\n",
        "        [a.iloc[4,0],a.iloc[0,0],a.iloc[5,0],a.iloc[2,0]],\n",
        "        [a.iloc[0,0],a.iloc[4,0],a.iloc[1,0],a.iloc[3,0]],\n",
        "        [a.iloc[4,0],a.iloc[5,0],a.iloc[2,0],a.iloc[0,0]],\n",
        "        [a.iloc[1,0],a.iloc[2,0],a.iloc[3,0],a.iloc[5,0]],\n",
        "        [a.iloc[3,0],a.iloc[0,0],a.iloc[1,0],a.iloc[2,0]]]"
      ],
      "execution_count": 6,
      "outputs": []
    },
    {
      "cell_type": "code",
      "metadata": {
        "colab": {
          "base_uri": "https://localhost:8080/",
          "height": 235
        },
        "id": "xqMq15rnCWHA",
        "outputId": "f9b7a261-c1de-4dba-d8ad-ab53b05da748"
      },
      "source": [
        "tabla=pd.DataFrame(decision,index=personas)\n",
        "#tabla=pd.DataFrame(seleccionado,index=personas,columns={'Primera opcion','Segunda opcion','Tercera opcion','Cuarta opcion'})\n",
        "tabla"
      ],
      "execution_count": 7,
      "outputs": [
        {
          "output_type": "execute_result",
          "data": {
            "text/html": [
              "<div>\n",
              "<style scoped>\n",
              "    .dataframe tbody tr th:only-of-type {\n",
              "        vertical-align: middle;\n",
              "    }\n",
              "\n",
              "    .dataframe tbody tr th {\n",
              "        vertical-align: top;\n",
              "    }\n",
              "\n",
              "    .dataframe thead th {\n",
              "        text-align: right;\n",
              "    }\n",
              "</style>\n",
              "<table border=\"1\" class=\"dataframe\">\n",
              "  <thead>\n",
              "    <tr style=\"text-align: right;\">\n",
              "      <th></th>\n",
              "      <th>0</th>\n",
              "      <th>1</th>\n",
              "      <th>2</th>\n",
              "      <th>3</th>\n",
              "    </tr>\n",
              "  </thead>\n",
              "  <tbody>\n",
              "    <tr>\n",
              "      <th>Olga</th>\n",
              "      <td>Eduardo</td>\n",
              "      <td>Karla</td>\n",
              "      <td>Marisol</td>\n",
              "      <td>Alan</td>\n",
              "    </tr>\n",
              "    <tr>\n",
              "      <th>Eduardo</th>\n",
              "      <td>Karla</td>\n",
              "      <td>Olga</td>\n",
              "      <td>Alan</td>\n",
              "      <td>Marisol</td>\n",
              "    </tr>\n",
              "    <tr>\n",
              "      <th>Marisol</th>\n",
              "      <td>Olga</td>\n",
              "      <td>Karla</td>\n",
              "      <td>Eduardo</td>\n",
              "      <td>Saul</td>\n",
              "    </tr>\n",
              "    <tr>\n",
              "      <th>Saul</th>\n",
              "      <td>Karla</td>\n",
              "      <td>Alan</td>\n",
              "      <td>Marisol</td>\n",
              "      <td>Olga</td>\n",
              "    </tr>\n",
              "    <tr>\n",
              "      <th>Karla</th>\n",
              "      <td>Eduardo</td>\n",
              "      <td>Marisol</td>\n",
              "      <td>Saul</td>\n",
              "      <td>Alan</td>\n",
              "    </tr>\n",
              "    <tr>\n",
              "      <th>Alan</th>\n",
              "      <td>Saul</td>\n",
              "      <td>Olga</td>\n",
              "      <td>Eduardo</td>\n",
              "      <td>Marisol</td>\n",
              "    </tr>\n",
              "  </tbody>\n",
              "</table>\n",
              "</div>"
            ],
            "text/plain": [
              "               0        1        2        3\n",
              "Olga     Eduardo    Karla  Marisol     Alan\n",
              "Eduardo    Karla     Olga     Alan  Marisol\n",
              "Marisol     Olga    Karla  Eduardo     Saul\n",
              "Saul       Karla     Alan  Marisol     Olga\n",
              "Karla    Eduardo  Marisol     Saul     Alan\n",
              "Alan        Saul     Olga  Eduardo  Marisol"
            ]
          },
          "metadata": {
            "tags": []
          },
          "execution_count": 7
        }
      ]
    },
    {
      "cell_type": "code",
      "metadata": {
        "colab": {
          "base_uri": "https://localhost:8080/"
        },
        "id": "iDSK1v3JCiBQ",
        "outputId": "9bc25e47-0de9-4dbe-8302-2b456900643e"
      },
      "source": [
        "tabla.iloc[0]"
      ],
      "execution_count": 8,
      "outputs": [
        {
          "output_type": "execute_result",
          "data": {
            "text/plain": [
              "0    Eduardo\n",
              "1      Karla\n",
              "2    Marisol\n",
              "3       Alan\n",
              "Name: Olga, dtype: object"
            ]
          },
          "metadata": {
            "tags": []
          },
          "execution_count": 8
        }
      ]
    },
    {
      "cell_type": "code",
      "metadata": {
        "colab": {
          "base_uri": "https://localhost:8080/",
          "height": 173
        },
        "id": "iDsa-GkXDF_R",
        "outputId": "bc53bad8-4ae8-403e-92e1-e5023d0c8229"
      },
      "source": [
        "seleccion={'Olga':pd.Series(persona1),\n",
        "           'Eduardo':pd.Series(persona2),\n",
        "           'Marisol':pd.Series(persona3),\n",
        "           'Saul':pd.Series(persona4),\n",
        "           'Karla':pd.Series(persona5),\n",
        "           'Alan':pd.Series(persona6)}\n",
        "s=pd.DataFrame(seleccion)\n",
        "s"
      ],
      "execution_count": 9,
      "outputs": [
        {
          "output_type": "execute_result",
          "data": {
            "text/html": [
              "<div>\n",
              "<style scoped>\n",
              "    .dataframe tbody tr th:only-of-type {\n",
              "        vertical-align: middle;\n",
              "    }\n",
              "\n",
              "    .dataframe tbody tr th {\n",
              "        vertical-align: top;\n",
              "    }\n",
              "\n",
              "    .dataframe thead th {\n",
              "        text-align: right;\n",
              "    }\n",
              "</style>\n",
              "<table border=\"1\" class=\"dataframe\">\n",
              "  <thead>\n",
              "    <tr style=\"text-align: right;\">\n",
              "      <th></th>\n",
              "      <th>Olga</th>\n",
              "      <th>Eduardo</th>\n",
              "      <th>Marisol</th>\n",
              "      <th>Saul</th>\n",
              "      <th>Karla</th>\n",
              "      <th>Alan</th>\n",
              "    </tr>\n",
              "  </thead>\n",
              "  <tbody>\n",
              "    <tr>\n",
              "      <th>0</th>\n",
              "      <td>Eduardo</td>\n",
              "      <td>Saul</td>\n",
              "      <td>Marisol</td>\n",
              "      <td>Karla</td>\n",
              "      <td>Olga</td>\n",
              "      <td>Alan</td>\n",
              "    </tr>\n",
              "    <tr>\n",
              "      <th>1</th>\n",
              "      <td>Karla</td>\n",
              "      <td>Olga</td>\n",
              "      <td>Karla</td>\n",
              "      <td>Alan</td>\n",
              "      <td>Karla</td>\n",
              "      <td>Marisol</td>\n",
              "    </tr>\n",
              "    <tr>\n",
              "      <th>2</th>\n",
              "      <td>Marisol</td>\n",
              "      <td>Marisol</td>\n",
              "      <td>Alan</td>\n",
              "      <td>Eduardo</td>\n",
              "      <td>Eduardo</td>\n",
              "      <td>Eduardo</td>\n",
              "    </tr>\n",
              "    <tr>\n",
              "      <th>3</th>\n",
              "      <td>Alan</td>\n",
              "      <td>Alan</td>\n",
              "      <td>Olga</td>\n",
              "      <td>Olga</td>\n",
              "      <td>Saul</td>\n",
              "      <td>Saul</td>\n",
              "    </tr>\n",
              "  </tbody>\n",
              "</table>\n",
              "</div>"
            ],
            "text/plain": [
              "      Olga  Eduardo  Marisol     Saul    Karla     Alan\n",
              "0  Eduardo     Saul  Marisol    Karla     Olga     Alan\n",
              "1    Karla     Olga    Karla     Alan    Karla  Marisol\n",
              "2  Marisol  Marisol     Alan  Eduardo  Eduardo  Eduardo\n",
              "3     Alan     Alan     Olga     Olga     Saul     Saul"
            ]
          },
          "metadata": {
            "tags": []
          },
          "execution_count": 9
        }
      ]
    },
    {
      "cell_type": "markdown",
      "metadata": {
        "id": "_1OWyTtJD6aT"
      },
      "source": [
        "Vemos que cada persona tiene solamente cuatro opciones. Para esto, entonces debemos saber las propuestas que todos hicieron para saber quien acepto propuesta y quien no.\n",
        "\n"
      ]
    },
    {
      "cell_type": "code",
      "metadata": {
        "colab": {
          "base_uri": "https://localhost:8080/",
          "height": 235
        },
        "id": "79KRwOO5EF-U",
        "outputId": "87026317-8b2a-4377-c9e4-ee09d564f046"
      },
      "source": [
        "n=6  #Numero de personas\n",
        "parejas=[None]*n    #Parejas\n",
        "personas=[None]*n   #personas disponibles\n",
        "\n",
        "numero=0\n",
        "numero2=0\n",
        "i=0\n",
        "\n",
        "while (i<=3):\n",
        "    persona=a.iloc[numero,0]   #Se busca la info de la persona disponible y ver si aún no tiene pareja\n",
        "\n",
        "    preferencias=s.iloc[numero]    #Aqui van las preferencias de las personas para que se valla cerrando mas el circulo hasta llegar con su pareja \n",
        "    persona2=a.iloc[numero2,0]\n",
        "\n",
        "    preferencias2=s.iloc[:,numero2]\n",
        "    pareja=personas[numero2]\n",
        "    \n",
        "    if (pareja==None):    #Aqui analizamos si una persona no tiene pareja, se le asigna una de acuerdo a su preferencia y viceversa\n",
        "        personas[numero2]=persona\n",
        "        parejas[numero]=persona2\n",
        "        numero+=1\n",
        "        numero2=0\n",
        "        i+=1\n",
        "    else:\n",
        "        indice=preferencias2.index[numero]\n",
        "        indice_persona1=preferencias2.index[numero2]\n",
        "        if indice>indice_persona1:\n",
        "            personas[numero2]=persona\n",
        "            parejas[numero]=persona2\n",
        "            numero+=1\n",
        "            numero2=0\n",
        "            i+=1\n",
        "        else:\n",
        "            numero2+=1\n",
        "\n",
        "final={'Persona 1':pd.Series(personas),\n",
        "      'Persona 2':pd.Series(parejas)}\n",
        "pintar=pd.DataFrame(final)\n",
        "pintar"
      ],
      "execution_count": 11,
      "outputs": [
        {
          "output_type": "execute_result",
          "data": {
            "text/html": [
              "<div>\n",
              "<style scoped>\n",
              "    .dataframe tbody tr th:only-of-type {\n",
              "        vertical-align: middle;\n",
              "    }\n",
              "\n",
              "    .dataframe tbody tr th {\n",
              "        vertical-align: top;\n",
              "    }\n",
              "\n",
              "    .dataframe thead th {\n",
              "        text-align: right;\n",
              "    }\n",
              "</style>\n",
              "<table border=\"1\" class=\"dataframe\">\n",
              "  <thead>\n",
              "    <tr style=\"text-align: right;\">\n",
              "      <th></th>\n",
              "      <th>Persona 1</th>\n",
              "      <th>Persona 2</th>\n",
              "    </tr>\n",
              "  </thead>\n",
              "  <tbody>\n",
              "    <tr>\n",
              "      <th>0</th>\n",
              "      <td>Saul</td>\n",
              "      <td>Olga</td>\n",
              "    </tr>\n",
              "    <tr>\n",
              "      <th>1</th>\n",
              "      <td>None</td>\n",
              "      <td>Olga</td>\n",
              "    </tr>\n",
              "    <tr>\n",
              "      <th>2</th>\n",
              "      <td>None</td>\n",
              "      <td>Olga</td>\n",
              "    </tr>\n",
              "    <tr>\n",
              "      <th>3</th>\n",
              "      <td>None</td>\n",
              "      <td>Olga</td>\n",
              "    </tr>\n",
              "    <tr>\n",
              "      <th>4</th>\n",
              "      <td>None</td>\n",
              "      <td>None</td>\n",
              "    </tr>\n",
              "    <tr>\n",
              "      <th>5</th>\n",
              "      <td>None</td>\n",
              "      <td>None</td>\n",
              "    </tr>\n",
              "  </tbody>\n",
              "</table>\n",
              "</div>"
            ],
            "text/plain": [
              "  Persona 1 Persona 2\n",
              "0      Saul      Olga\n",
              "1      None      Olga\n",
              "2      None      Olga\n",
              "3      None      Olga\n",
              "4      None      None\n",
              "5      None      None"
            ]
          },
          "metadata": {
            "tags": []
          },
          "execution_count": 11
        }
      ]
    }
  ]
}