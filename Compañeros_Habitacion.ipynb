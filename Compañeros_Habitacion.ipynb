{
 "cells": [
  {
   "cell_type": "markdown",
   "metadata": {},
   "source": [
    "# Problema 2\n",
    "\n",
    "## Compañeros de habitación.\n",
    "\n",
    "Compruebe el algoritmo para obtener los compromisos a existir."
   ]
  },
  {
   "cell_type": "code",
   "execution_count": 1,
   "metadata": {},
   "outputs": [],
   "source": [
    "import numpy as np\n",
    "import pandas as pd\n",
    "import random as random"
   ]
  },
  {
   "cell_type": "markdown",
   "metadata": {},
   "source": [
    "Primero generamos a nuestros compañeros. En este caso, crearemos solamente a cinco personas. Esas cinco personas estaran definidas por indice. Por ejemplo, en este caso, tenemos a las siguientes 6 personas."
   ]
  },
  {
   "cell_type": "code",
   "execution_count": 34,
   "metadata": {},
   "outputs": [
    {
     "data": {
      "text/html": [
       "<div>\n",
       "<style scoped>\n",
       "    .dataframe tbody tr th:only-of-type {\n",
       "        vertical-align: middle;\n",
       "    }\n",
       "\n",
       "    .dataframe tbody tr th {\n",
       "        vertical-align: top;\n",
       "    }\n",
       "\n",
       "    .dataframe thead th {\n",
       "        text-align: right;\n",
       "    }\n",
       "</style>\n",
       "<table border=\"1\" class=\"dataframe\">\n",
       "  <thead>\n",
       "    <tr style=\"text-align: right;\">\n",
       "      <th></th>\n",
       "      <th>Nombre</th>\n",
       "    </tr>\n",
       "  </thead>\n",
       "  <tbody>\n",
       "    <tr>\n",
       "      <th>Magaly</th>\n",
       "      <td>Magaly</td>\n",
       "    </tr>\n",
       "    <tr>\n",
       "      <th>Ricardo</th>\n",
       "      <td>Ricardo</td>\n",
       "    </tr>\n",
       "    <tr>\n",
       "      <th>Valeria</th>\n",
       "      <td>Valeria</td>\n",
       "    </tr>\n",
       "    <tr>\n",
       "      <th>Emmanuel</th>\n",
       "      <td>Emmanuel</td>\n",
       "    </tr>\n",
       "    <tr>\n",
       "      <th>Sofia</th>\n",
       "      <td>Sofia</td>\n",
       "    </tr>\n",
       "    <tr>\n",
       "      <th>Arturo</th>\n",
       "      <td>Arturo</td>\n",
       "    </tr>\n",
       "  </tbody>\n",
       "</table>\n",
       "</div>"
      ],
      "text/plain": [
       "            Nombre\n",
       "Magaly      Magaly\n",
       "Ricardo    Ricardo\n",
       "Valeria    Valeria\n",
       "Emmanuel  Emmanuel\n",
       "Sofia        Sofia\n",
       "Arturo      Arturo"
      ]
     },
     "execution_count": 34,
     "metadata": {},
     "output_type": "execute_result"
    }
   ],
   "source": [
    "personas=['Magaly','Ricardo','Valeria','Emmanuel','Sofia','Arturo']\n",
    "\n",
    "serie={'Nombre':pd.Series(personas,index=['Magaly','Ricardo','Valeria','Emmanuel','Sofia','Arturo'])}\n",
    "a=pd.DataFrame(serie)\n",
    "a"
   ]
  },
  {
   "cell_type": "markdown",
   "metadata": {},
   "source": [
    "Aqui podemos ver como cada nombre tiene su propio numero asociado. Esto sera para el procedimiento de más adelante. Ahora, formaremos la lista de como cada quien prefiere a su pareja."
   ]
  },
  {
   "cell_type": "code",
   "execution_count": 43,
   "metadata": {},
   "outputs": [
    {
     "data": {
      "text/html": [
       "<div>\n",
       "<style scoped>\n",
       "    .dataframe tbody tr th:only-of-type {\n",
       "        vertical-align: middle;\n",
       "    }\n",
       "\n",
       "    .dataframe tbody tr th {\n",
       "        vertical-align: top;\n",
       "    }\n",
       "\n",
       "    .dataframe thead th {\n",
       "        text-align: right;\n",
       "    }\n",
       "</style>\n",
       "<table border=\"1\" class=\"dataframe\">\n",
       "  <thead>\n",
       "    <tr style=\"text-align: right;\">\n",
       "      <th></th>\n",
       "      <th>0</th>\n",
       "      <th>1</th>\n",
       "      <th>2</th>\n",
       "      <th>3</th>\n",
       "    </tr>\n",
       "  </thead>\n",
       "  <tbody>\n",
       "    <tr>\n",
       "      <th>Magaly</th>\n",
       "      <td>Ricardo</td>\n",
       "      <td>Sofia</td>\n",
       "      <td>Valeria</td>\n",
       "      <td>Arturo</td>\n",
       "    </tr>\n",
       "    <tr>\n",
       "      <th>Ricardo</th>\n",
       "      <td>Sofia</td>\n",
       "      <td>Magaly</td>\n",
       "      <td>Arturo</td>\n",
       "      <td>Valeria</td>\n",
       "    </tr>\n",
       "    <tr>\n",
       "      <th>Valeria</th>\n",
       "      <td>Magaly</td>\n",
       "      <td>Sofia</td>\n",
       "      <td>Ricardo</td>\n",
       "      <td>Emmanuel</td>\n",
       "    </tr>\n",
       "    <tr>\n",
       "      <th>Emmanuel</th>\n",
       "      <td>Sofia</td>\n",
       "      <td>Arturo</td>\n",
       "      <td>Valeria</td>\n",
       "      <td>Magaly</td>\n",
       "    </tr>\n",
       "    <tr>\n",
       "      <th>Sofia</th>\n",
       "      <td>Ricardo</td>\n",
       "      <td>Valeria</td>\n",
       "      <td>Emmanuel</td>\n",
       "      <td>Arturo</td>\n",
       "    </tr>\n",
       "    <tr>\n",
       "      <th>Arturo</th>\n",
       "      <td>Emmanuel</td>\n",
       "      <td>Magaly</td>\n",
       "      <td>Ricardo</td>\n",
       "      <td>Valeria</td>\n",
       "    </tr>\n",
       "  </tbody>\n",
       "</table>\n",
       "</div>"
      ],
      "text/plain": [
       "                 0        1         2         3\n",
       "Magaly     Ricardo    Sofia   Valeria    Arturo\n",
       "Ricardo      Sofia   Magaly    Arturo   Valeria\n",
       "Valeria     Magaly    Sofia   Ricardo  Emmanuel\n",
       "Emmanuel     Sofia   Arturo   Valeria    Magaly\n",
       "Sofia      Ricardo  Valeria  Emmanuel    Arturo\n",
       "Arturo    Emmanuel   Magaly   Ricardo   Valeria"
      ]
     },
     "execution_count": 43,
     "metadata": {},
     "output_type": "execute_result"
    }
   ],
   "source": [
    "#persona1=[a.iloc[1,0],a.iloc[4,0],a.iloc[2,0],a.iloc[5,0]]\n",
    "#persona2=[a.iloc[4,0],a.iloc[0,0],a.iloc[5,0],a.iloc[2,0]]\n",
    "#persona3=[a.iloc[0,0],a.iloc[4,0],a.iloc[1,0],a.iloc[3,0]]\n",
    "persona4=[a.iloc[4,0],a.iloc[5,0],a.iloc[1,0],a.iloc[0,0]]\n",
    "#persona5=[a.iloc[1,0],a.iloc[2,0],a.iloc[3,0],a.iloc[5,0]]\n",
    "#persona6=[a.iloc[3,0],a.iloc[0,0],a.iloc[1,0],a.iloc[3,0]]\n",
    "\n",
    "persona1=['Ricardo','Sofia','Valeria','Arturo']\n",
    "persona2=['Sofia','Magaly','Arturo','Valeria']\n",
    "persona3=['Magaly','Sofia','Ricardo','Emmanuel']\n",
    "#persona4=['Sofia','Arturo','Valeria','Magaly'],\n",
    "persona5=['Ricardo','Valeria','Emmanuel','Arturo']\n",
    "persona6=['Emmanuel','Magaly','Ricardo','Valeria']\n",
    "\n",
    "seleccionado=[persona1,\n",
    "              persona2,\n",
    "              persona3,\n",
    "              persona4,\n",
    "              persona5,\n",
    "              persona6]\n",
    "\n",
    "decision=[[a.iloc[1,0],a.iloc[4,0],a.iloc[2,0],a.iloc[5,0]],\n",
    "        [a.iloc[4,0],a.iloc[0,0],a.iloc[5,0],a.iloc[2,0]],\n",
    "        [a.iloc[0,0],a.iloc[4,0],a.iloc[1,0],a.iloc[3,0]],\n",
    "        [a.iloc[4,0],a.iloc[5,0],a.iloc[2,0],a.iloc[0,0]],\n",
    "        [a.iloc[1,0],a.iloc[2,0],a.iloc[3,0],a.iloc[5,0]],\n",
    "        [a.iloc[3,0],a.iloc[0,0],a.iloc[1,0],a.iloc[2,0]]]\n",
    "\n",
    "tabla=pd.DataFrame(decision,index=personas)\n",
    "#tabla=pd.DataFrame(seleccionado,index=personas,columns={'Primera opcion','Segunda opcion','Tercera opcion','Cuarta opcion'})\n",
    "tabla"
   ]
  },
  {
   "cell_type": "code",
   "execution_count": 44,
   "metadata": {},
   "outputs": [
    {
     "data": {
      "text/plain": [
       "0    Ricardo\n",
       "1      Sofia\n",
       "2    Valeria\n",
       "3     Arturo\n",
       "Name: Magaly, dtype: object"
      ]
     },
     "execution_count": 44,
     "metadata": {},
     "output_type": "execute_result"
    }
   ],
   "source": [
    "tabla.iloc[0]"
   ]
  },
  {
   "cell_type": "code",
   "execution_count": 45,
   "metadata": {},
   "outputs": [
    {
     "data": {
      "text/html": [
       "<div>\n",
       "<style scoped>\n",
       "    .dataframe tbody tr th:only-of-type {\n",
       "        vertical-align: middle;\n",
       "    }\n",
       "\n",
       "    .dataframe tbody tr th {\n",
       "        vertical-align: top;\n",
       "    }\n",
       "\n",
       "    .dataframe thead th {\n",
       "        text-align: right;\n",
       "    }\n",
       "</style>\n",
       "<table border=\"1\" class=\"dataframe\">\n",
       "  <thead>\n",
       "    <tr style=\"text-align: right;\">\n",
       "      <th></th>\n",
       "      <th>Magaly</th>\n",
       "      <th>Ricardo</th>\n",
       "      <th>Valeria</th>\n",
       "      <th>Emmanuel</th>\n",
       "      <th>Sofia</th>\n",
       "      <th>Arturo</th>\n",
       "    </tr>\n",
       "  </thead>\n",
       "  <tbody>\n",
       "    <tr>\n",
       "      <th>0</th>\n",
       "      <td>Ricardo</td>\n",
       "      <td>Sofia</td>\n",
       "      <td>Magaly</td>\n",
       "      <td>Sofia</td>\n",
       "      <td>Ricardo</td>\n",
       "      <td>Emmanuel</td>\n",
       "    </tr>\n",
       "    <tr>\n",
       "      <th>1</th>\n",
       "      <td>Sofia</td>\n",
       "      <td>Magaly</td>\n",
       "      <td>Sofia</td>\n",
       "      <td>Arturo</td>\n",
       "      <td>Valeria</td>\n",
       "      <td>Magaly</td>\n",
       "    </tr>\n",
       "    <tr>\n",
       "      <th>2</th>\n",
       "      <td>Valeria</td>\n",
       "      <td>Arturo</td>\n",
       "      <td>Ricardo</td>\n",
       "      <td>Ricardo</td>\n",
       "      <td>Emmanuel</td>\n",
       "      <td>Ricardo</td>\n",
       "    </tr>\n",
       "    <tr>\n",
       "      <th>3</th>\n",
       "      <td>Arturo</td>\n",
       "      <td>Valeria</td>\n",
       "      <td>Emmanuel</td>\n",
       "      <td>Magaly</td>\n",
       "      <td>Arturo</td>\n",
       "      <td>Valeria</td>\n",
       "    </tr>\n",
       "  </tbody>\n",
       "</table>\n",
       "</div>"
      ],
      "text/plain": [
       "    Magaly  Ricardo   Valeria Emmanuel     Sofia    Arturo\n",
       "0  Ricardo    Sofia    Magaly    Sofia   Ricardo  Emmanuel\n",
       "1    Sofia   Magaly     Sofia   Arturo   Valeria    Magaly\n",
       "2  Valeria   Arturo   Ricardo  Ricardo  Emmanuel   Ricardo\n",
       "3   Arturo  Valeria  Emmanuel   Magaly    Arturo   Valeria"
      ]
     },
     "execution_count": 45,
     "metadata": {},
     "output_type": "execute_result"
    }
   ],
   "source": [
    "seleccion={'Magaly':pd.Series(persona1),\n",
    "           'Ricardo':pd.Series(persona2),\n",
    "           'Valeria':pd.Series(persona3),\n",
    "           'Emmanuel':pd.Series(persona4),\n",
    "           'Sofia':pd.Series(persona5),\n",
    "           'Arturo':pd.Series(persona6)}\n",
    "s=pd.DataFrame(seleccion)\n",
    "s"
   ]
  },
  {
   "cell_type": "markdown",
   "metadata": {},
   "source": [
    "Vemos que cada persona tiene solamente cuatro opciones. Para esto, entonces debemos saber las propuestas que todos hicieron para saber quien acepto propuesta y quien no."
   ]
  },
  {
   "cell_type": "code",
   "execution_count": 54,
   "metadata": {},
   "outputs": [
    {
     "data": {
      "text/html": [
       "<div>\n",
       "<style scoped>\n",
       "    .dataframe tbody tr th:only-of-type {\n",
       "        vertical-align: middle;\n",
       "    }\n",
       "\n",
       "    .dataframe tbody tr th {\n",
       "        vertical-align: top;\n",
       "    }\n",
       "\n",
       "    .dataframe thead th {\n",
       "        text-align: right;\n",
       "    }\n",
       "</style>\n",
       "<table border=\"1\" class=\"dataframe\">\n",
       "  <thead>\n",
       "    <tr style=\"text-align: right;\">\n",
       "      <th></th>\n",
       "      <th>Persona 1</th>\n",
       "      <th>Persona 2</th>\n",
       "    </tr>\n",
       "  </thead>\n",
       "  <tbody>\n",
       "    <tr>\n",
       "      <th>0</th>\n",
       "      <td>Valeria</td>\n",
       "      <td>Magaly</td>\n",
       "    </tr>\n",
       "    <tr>\n",
       "      <th>1</th>\n",
       "      <td>Ricardo</td>\n",
       "      <td>Sofia</td>\n",
       "    </tr>\n",
       "    <tr>\n",
       "      <th>2</th>\n",
       "      <td>Emmanuel</td>\n",
       "      <td>Arturo</td>\n",
       "    </tr>\n",
       "  </tbody>\n",
       "</table>\n",
       "</div>"
      ],
      "text/plain": [
       "  Persona 1 Persona 2\n",
       "0   Valeria    Magaly\n",
       "1   Ricardo     Sofia\n",
       "2  Emmanuel    Arturo"
      ]
     },
     "execution_count": 54,
     "metadata": {},
     "output_type": "execute_result"
    }
   ],
   "source": [
    "n=6\n",
    "parejas=[None]*n\n",
    "personas=[None]*n\n",
    "\n",
    "numero=0\n",
    "numero2=0\n",
    "i=0\n",
    "\n",
    "while (i<=3):\n",
    "    persona=a.iloc[numero,0]\n",
    "\n",
    "    preferencias=s.iloc[numero]\n",
    "    persona2=a.iloc[numero2,0]\n",
    "\n",
    "    preferencias2=s.iloc[:,numero2]\n",
    "    pareja=personas[numero2]\n",
    "    \n",
    "    if (pareja==None):\n",
    "        personas[numero2]=persona\n",
    "        parejas[numero]=persona2\n",
    "        numero+=1\n",
    "        numero2=0\n",
    "        i+=1\n",
    "    else:\n",
    "        indice=preferencias2.index[numero]\n",
    "        indice_persona1=preferencias2.index[numero2]\n",
    "        if indice>indice_persona1:\n",
    "            personas[numero2]=persona\n",
    "            parejas[numero]=persona2\n",
    "            numero+=1\n",
    "            numero2=0\n",
    "            i+=1\n",
    "        else:\n",
    "            numero2+=1\n",
    "\n",
    "final={'Persona 1':pd.Series(personas),\n",
    "      'Persona 2':pd.Series(parejas)}\n",
    "pintar=pd.DataFrame(final)\n",
    "pintar"
   ]
  }
 ],
 "metadata": {
  "kernelspec": {
   "display_name": "Python 3",
   "language": "python",
   "name": "python3"
  },
  "language_info": {
   "codemirror_mode": {
    "name": "ipython",
    "version": 3
   },
   "file_extension": ".py",
   "mimetype": "text/x-python",
   "name": "python",
   "nbconvert_exporter": "python",
   "pygments_lexer": "ipython3",
   "version": "3.8.8"
  }
 },
 "nbformat": 4,
 "nbformat_minor": 4
}
